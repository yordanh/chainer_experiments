{
 "cells": [
  {
   "cell_type": "code",
   "execution_count": 39,
   "metadata": {},
   "outputs": [],
   "source": [
    "import numpy as np\n",
    "import chainer\n",
    "from chainer import cuda, Function, gradient_check, report, training, utils, Variable\n",
    "from chainer import datasets, iterators, optimizers, serializers\n",
    "from chainer import Link, Chain, ChainList\n",
    "import chainer.functions as F\n",
    "import chainer.links as L\n",
    "from chainer.training import extensions\n",
    "from chainer.dataset import concat_examples\n",
    "from chainer.backends.cuda import to_cpu\n"
   ]
  },
  {
   "cell_type": "code",
   "execution_count": 40,
   "metadata": {},
   "outputs": [],
   "source": [
    "a = L.Linear(2, 3)"
   ]
  },
  {
   "cell_type": "code",
   "execution_count": 107,
   "metadata": {},
   "outputs": [
    {
     "name": "stdout",
     "output_type": "stream",
     "text": [
      "variable W([[-1.0434684  -0.27513197]\n",
      "            [ 0.61474335 -0.2853942 ]\n",
      "            [-0.5197403  -0.77510285]])\n",
      "(3, 2)\n",
      "[[0 1]\n",
      " [0 1]\n",
      " [0 1]]\n",
      "(3, 2)\n",
      "variable([[-0.         -0.27513197]\n",
      "          [ 0.         -0.2853942 ]\n",
      "          [-0.         -0.77510285]])\n"
     ]
    }
   ],
   "source": [
    "print(a.W)\n",
    "print(a.W.data.shape)\n",
    "mask = np.array([[0,1],[0,1], [0,1]])\n",
    "print(mask)\n",
    "print(mask.shape)\n",
    "print(a.W * mask)"
   ]
  },
  {
   "cell_type": "code",
   "execution_count": null,
   "metadata": {},
   "outputs": [],
   "source": []
  },
  {
   "cell_type": "code",
   "execution_count": null,
   "metadata": {},
   "outputs": [],
   "source": []
  },
  {
   "cell_type": "code",
   "execution_count": null,
   "metadata": {},
   "outputs": [],
   "source": []
  },
  {
   "cell_type": "code",
   "execution_count": 75,
   "metadata": {},
   "outputs": [
    {
     "data": {
      "text/plain": [
       "variable([5.])"
      ]
     },
     "execution_count": 75,
     "metadata": {},
     "output_type": "execute_result"
    }
   ],
   "source": [
    "x_data = np.array([5], dtype=np.float32)\n",
    "x = Variable(x_data)\n",
    "x"
   ]
  },
  {
   "cell_type": "code",
   "execution_count": 78,
   "metadata": {},
   "outputs": [
    {
     "data": {
      "text/plain": [
       "variable([16.])"
      ]
     },
     "execution_count": 78,
     "metadata": {},
     "output_type": "execute_result"
    }
   ],
   "source": [
    "y = (x**2 - 2 * x + 1)\n",
    "y"
   ]
  },
  {
   "cell_type": "code",
   "execution_count": 79,
   "metadata": {},
   "outputs": [
    {
     "data": {
      "text/plain": [
       "array([8.], dtype=float32)"
      ]
     },
     "execution_count": 79,
     "metadata": {},
     "output_type": "execute_result"
    }
   ],
   "source": [
    "y.backward()\n",
    "x.grad"
   ]
  },
  {
   "cell_type": "code",
   "execution_count": 41,
   "metadata": {},
   "outputs": [],
   "source": [
    "batchsize = 128\n",
    "\n",
    "mask = np.zeros((batchsize,2))\n",
    "mask[:,1] = 1\n",
    "# print(mask)"
   ]
  },
  {
   "cell_type": "code",
   "execution_count": 51,
   "metadata": {},
   "outputs": [],
   "source": [
    "# Network definition\n",
    "class MLP(chainer.Chain):\n",
    "\n",
    "    def __init__(self, n_units, n_out):\n",
    "        super(MLP, self).__init__()\n",
    "        with self.init_scope():\n",
    "            # the size of the inputs to each layer will be inferred\n",
    "            self.l1 = L.Linear(None, n_units)  # n_in -> n_units\n",
    "            self.l2 = L.Linear(None, n_units)  # n_units -> n_units\n",
    "            self.l3 = L.Linear(None, n_out)  # n_units -> n_out\n",
    "\n",
    "    def __call__(self, x, val_flag=False):\n",
    "        h1 = F.relu(self.l1(x))\n",
    "        h2 = F.relu(self.l2(h1))\n",
    "        \n",
    "        mask = np.zeros((h2.shape[0], 2))\n",
    "        mask[:,1] = 1\n",
    "        h2 = h2 * mask\n",
    "    \n",
    "        if val_flag:\n",
    "            print(\"\\n\")\n",
    "            print(self.l2.W)\n",
    "            print(self.l2.b)\n",
    "            print(\"\\n\")\n",
    "        \n",
    "        return self.l3(h2)"
   ]
  },
  {
   "cell_type": "code",
   "execution_count": 52,
   "metadata": {},
   "outputs": [],
   "source": [
    "# Load the MNIST dataset\n",
    "train, test = chainer.datasets.get_mnist()"
   ]
  },
  {
   "cell_type": "code",
   "execution_count": 54,
   "metadata": {},
   "outputs": [
    {
     "name": "stdout",
     "output_type": "stream",
     "text": [
      "\n",
      "\n",
      "\n",
      "epoch:01 train_loss:1.9921 \n",
      "\n",
      "\n",
      "variable W([[ 1.747008   0.5278429]\n",
      "            [-1.1458106  0.3740262]])\n",
      "variable b([0.         0.20723538])\n",
      "\n",
      "\n",
      "val_loss:2.0196 val_accuracy:0.2144\n",
      "\n",
      "\n",
      "\n",
      "epoch:02 train_loss:2.0277 \n",
      "\n",
      "\n",
      "variable W([[ 1.747008    0.5278429 ]\n",
      "            [-1.2352842   0.42442495]])\n",
      "variable b([0.         0.30676216])\n",
      "\n",
      "\n",
      "val_loss:1.9517 val_accuracy:0.2248\n",
      "\n",
      "\n",
      "\n",
      "epoch:03 train_loss:1.8144 \n",
      "\n",
      "\n",
      "variable W([[ 1.747008    0.5278429 ]\n",
      "            [-1.284077    0.44787654]])\n",
      "variable b([0.         0.38972387])\n",
      "\n",
      "\n",
      "val_loss:1.9061 val_accuracy:0.2399\n",
      "\n",
      "\n",
      "\n",
      "epoch:04 train_loss:1.8028 \n",
      "\n",
      "\n",
      "variable W([[ 1.747008    0.5278429 ]\n",
      "            [-1.3090727   0.46080175]])\n",
      "variable b([0.         0.45676038])\n",
      "\n",
      "\n",
      "val_loss:1.8653 val_accuracy:0.2552\n",
      "\n",
      "\n",
      "\n",
      "epoch:05 train_loss:1.6732 \n",
      "\n",
      "\n",
      "variable W([[ 1.747008    0.5278429 ]\n",
      "            [-1.3210577   0.47087708]])\n",
      "variable b([0.         0.51617163])\n",
      "\n",
      "\n",
      "val_loss:1.8342 val_accuracy:0.2678\n",
      "\n",
      "\n",
      "\n",
      "epoch:06 train_loss:1.7659 \n",
      "\n",
      "\n",
      "variable W([[ 1.747008    0.5278429 ]\n",
      "            [-1.3411237   0.47763237]])\n",
      "variable b([0.        0.5680333])\n",
      "\n",
      "\n",
      "val_loss:1.8105 val_accuracy:0.2808\n",
      "\n",
      "\n",
      "\n",
      "epoch:07 train_loss:1.7480 \n",
      "\n",
      "\n",
      "variable W([[ 1.747008    0.5278429 ]\n",
      "            [-1.3527676   0.48814198]])\n",
      "variable b([0.        0.6230878])\n",
      "\n",
      "\n",
      "val_loss:1.7935 val_accuracy:0.2778\n",
      "\n",
      "\n",
      "\n",
      "epoch:08 train_loss:1.8539 \n",
      "\n",
      "\n",
      "variable W([[ 1.747008    0.5278429 ]\n",
      "            [-1.3638258   0.49533573]])\n",
      "variable b([0.        0.6933141])\n",
      "\n",
      "\n",
      "val_loss:1.7723 val_accuracy:0.2865\n",
      "\n",
      "\n",
      "\n",
      "epoch:09 train_loss:1.7353 \n",
      "\n",
      "\n",
      "variable W([[ 1.747008    0.5278429 ]\n",
      "            [-1.3708928   0.50800276]])\n",
      "variable b([0.         0.78221506])\n",
      "\n",
      "\n",
      "val_loss:1.7544 val_accuracy:0.2890\n",
      "\n",
      "\n",
      "\n",
      "epoch:10 train_loss:1.7223 \n",
      "\n",
      "\n",
      "variable W([[ 1.747008    0.5278429 ]\n",
      "            [-1.3666888   0.52464104]])\n",
      "variable b([0.         0.87041426])\n",
      "\n",
      "\n",
      "val_loss:1.7368 val_accuracy:0.2967\n"
     ]
    }
   ],
   "source": [
    "batchsize = 128\n",
    "epoch = 10\n",
    "gpu = -1\n",
    "unit = 2\n",
    "out = 'result'\n",
    "plot = True\n",
    "\n",
    "model = MLP(unit, 10)\n",
    "\n",
    "if gpu >= 0:\n",
    "    # Make a specified GPU current\n",
    "    chainer.cuda.get_device_from_id(gpu).use()\n",
    "    model.to_gpu()  # Copy the model to the GPU\n",
    "    \n",
    "#  Setup an optimizer\n",
    "optimizer = chainer.optimizers.Adam()\n",
    "optimizer.setup(model)\n",
    "\n",
    "train_iter = chainer.iterators.SerialIterator(train, batchsize)\n",
    "test_iter = chainer.iterators.SerialIterator(test, batchsize,\n",
    "                                             repeat=False, shuffle=False)\n",
    "\n",
    "while train_iter.epoch < epoch:\n",
    "\n",
    "    # ---------- One iteration of the training loop ----------\n",
    "    train_batch = train_iter.next()\n",
    "    image_train, target_train = concat_examples(train_batch, gpu)\n",
    "\n",
    "    # Calculate the prediction of the network\n",
    "    prediction_train = model(image_train)\n",
    "\n",
    "    # Calculate the loss with softmax_cross_entropy\n",
    "    loss = F.softmax_cross_entropy(prediction_train, target_train)\n",
    "\n",
    "    # Calculate the gradients in the network\n",
    "    model.cleargrads()\n",
    "    loss.backward()\n",
    "\n",
    "    # Update all the trainable paremters\n",
    "    optimizer.update()\n",
    "    # --------------------- until here ---------------------\n",
    "\n",
    "    # Check the validation accuracy of prediction after every epoch\n",
    "    if train_iter.is_new_epoch:  # If this iteration is the final iteration of the current epoch\n",
    "\n",
    "        # Display the training loss\n",
    "        print('\\n\\n\\nepoch:{:02d} train_loss:{:.04f} '.format(\n",
    "            train_iter.epoch, float(to_cpu(loss.data))))\n",
    "\n",
    "        test_losses = []\n",
    "        test_accuracies = []\n",
    "        while True:\n",
    "            test_batch = test_iter.next()\n",
    "            image_test, target_test = concat_examples(test_batch, gpu)\n",
    "\n",
    "            # Forward the test data\n",
    "            prediction_test = model(image_test)\n",
    "\n",
    "            # Calculate the loss\n",
    "            loss_test = F.softmax_cross_entropy(prediction_test, target_test)\n",
    "            test_losses.append(to_cpu(loss_test.data))\n",
    "\n",
    "            # Calculate the accuracy\n",
    "            accuracy = F.accuracy(prediction_test, target_test)\n",
    "            accuracy.to_cpu()\n",
    "            test_accuracies.append(accuracy.data)\n",
    "\n",
    "            if test_iter.is_new_epoch:\n",
    "                test_iter.epoch = 0\n",
    "                test_iter.current_position = 0\n",
    "                test_iter.is_new_epoch = False\n",
    "                test_iter._pushed_position = None\n",
    "                prediction_test = model(image_test, val_flag=True)\n",
    "                break\n",
    "\n",
    "        print('val_loss:{:.04f} val_accuracy:{:.04f}'.format(\n",
    "            np.mean(test_losses), np.mean(test_accuracies)))"
   ]
  },
  {
   "cell_type": "code",
   "execution_count": null,
   "metadata": {},
   "outputs": [],
   "source": []
  },
  {
   "cell_type": "code",
   "execution_count": null,
   "metadata": {},
   "outputs": [],
   "source": []
  },
  {
   "cell_type": "markdown",
   "metadata": {},
   "source": [
    "# Max Pooling and Upsampling (Unpooling)"
   ]
  },
  {
   "cell_type": "code",
   "execution_count": 4,
   "metadata": {},
   "outputs": [
    {
     "name": "stdout",
     "output_type": "stream",
     "text": [
      "(1, 1, 5, 5)\n"
     ]
    },
    {
     "data": {
      "text/plain": [
       "array([[[[ 1.,  2.,  3.,  4.,  5.],\n",
       "         [ 6.,  7.,  8.,  9., 10.],\n",
       "         [11., 12., 13., 14., 15.],\n",
       "         [16., 17., 18., 19., 20.],\n",
       "         [21., 22., 23., 24., 25.]]]], dtype=float32)"
      ]
     },
     "execution_count": 4,
     "metadata": {},
     "output_type": "execute_result"
    }
   ],
   "source": [
    "x = np.arange(1, 26).reshape(1, 1, 5, 5).astype(np.float32)\n",
    "x = chainer.Variable(x)\n",
    "print(x.data.shape)\n",
    "x.data"
   ]
  },
  {
   "cell_type": "code",
   "execution_count": 5,
   "metadata": {},
   "outputs": [
    {
     "name": "stdout",
     "output_type": "stream",
     "text": [
      "(1, 1, 3, 3)\n"
     ]
    },
    {
     "data": {
      "text/plain": [
       "variable([[[[ 7.,  9., 10.],\n",
       "            [17., 19., 20.],\n",
       "            [22., 24., 25.]]]])"
      ]
     },
     "execution_count": 5,
     "metadata": {},
     "output_type": "execute_result"
    }
   ],
   "source": [
    "p = F.max_pooling_2d(x, ksize=2)\n",
    "print(p.shape)\n",
    "p"
   ]
  },
  {
   "cell_type": "code",
   "execution_count": 14,
   "metadata": {},
   "outputs": [
    {
     "name": "stdout",
     "output_type": "stream",
     "text": [
      "(1, 1, 6, 6)\n"
     ]
    },
    {
     "data": {
      "text/plain": [
       "variable([[[[ 8.,  8., 10., 10., 12., 12.],\n",
       "            [ 8.,  8., 10., 10., 12., 12.],\n",
       "            [20., 20., 22., 22., 24., 24.],\n",
       "            [20., 20., 22., 22., 24., 24.],\n",
       "            [32., 32., 34., 34., 36., 36.],\n",
       "            [32., 32., 34., 34., 36., 36.]]]])"
      ]
     },
     "execution_count": 14,
     "metadata": {},
     "output_type": "execute_result"
    }
   ],
   "source": [
    "p_unpooled = F.unpooling_2d(p, ksize=2, cover_all=False)\n",
    "print(p_unpooled.data.shape)\n",
    "p_unpooled"
   ]
  },
  {
   "cell_type": "code",
   "execution_count": null,
   "metadata": {},
   "outputs": [],
   "source": []
  },
  {
   "cell_type": "code",
   "execution_count": null,
   "metadata": {},
   "outputs": [],
   "source": []
  }
 ],
 "metadata": {
  "kernelspec": {
   "display_name": "Python 2",
   "language": "python",
   "name": "python2"
  },
  "language_info": {
   "codemirror_mode": {
    "name": "ipython",
    "version": 2
   },
   "file_extension": ".py",
   "mimetype": "text/x-python",
   "name": "python",
   "nbconvert_exporter": "python",
   "pygments_lexer": "ipython2",
   "version": "2.7.14"
  }
 },
 "nbformat": 4,
 "nbformat_minor": 2
}
